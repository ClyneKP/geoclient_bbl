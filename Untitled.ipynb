{
 "cells": [
  {
   "cell_type": "code",
   "execution_count": 2,
   "metadata": {},
   "outputs": [],
   "source": [
    "import pandas as pd\n",
    "from pandas.io.json import json_normalize"
   ]
  },
  {
   "cell_type": "code",
   "execution_count": 8,
   "metadata": {},
   "outputs": [],
   "source": [
    "data = {\"bbl\":{\"bbl\":\"2023090012\",\"bblBoroughCode\":\"2\",\"bblBoroughCodeIn\":\"2\",\"bblTaxBlock\":\"02309\",\"bblTaxBlockIn\":\"2309\",\"bblTaxLot\":\"0012\",\"bblTaxLotIn\":\"12\",\"buildingIdentificationNumber\":\"2129034\",\"condominiumBillingBbl\":\"0000000000\",\"cooperativeIdNumber\":\"0000\",\"firstBoroughName\":\"BRONX\",\"geosupportFunctionCode\":\"BL\",\"geosupportReturnCode\":\"00\",\"gi5DigitStreetCode1\":\"15920\",\"gi5DigitStreetCode2\":\"15920\",\"gi5DigitStreetCode3\":\"15920\",\"gi5DigitStreetCode4\":\"25680\",\"gi5DigitStreetCode5\":\"25680\",\"giBoroughCode1\":\"2\",\"giBoroughCode2\":\"2\",\"giBoroughCode3\":\"2\",\"giBoroughCode4\":\"2\",\"giBoroughCode5\":\"2\",\"giBuildingIdentificationNumber1\":\"2129034\",\"giBuildingIdentificationNumber2\":\"2128931\",\"giBuildingIdentificationNumber3\":\"2129033\",\"giBuildingIdentificationNumber4\":\"2129033\",\"giBuildingIdentificationNumber5\":\"2129033\",\"giDcpPreferredLgc1\":\"01\",\"giDcpPreferredLgc2\":\"01\",\"giDcpPreferredLgc3\":\"01\",\"giDcpPreferredLgc4\":\"01\",\"giDcpPreferredLgc5\":\"01\",\"giGeographicIdentifier1\":\"B\",\"giHighHouseNumber2\":\"25\",\"giHighHouseNumber3\":\"25 REAR\",\"giHighHouseNumber4\":\"280\",\"giHighHouseNumber5\":\"282\",\"giLowHouseNumber2\":\"23\",\"giLowHouseNumber3\":\"25 REAR\",\"giLowHouseNumber4\":\"280\",\"giLowHouseNumber5\":\"282\",\"giSideOfStreetIndicator2\":\"L\",\"giSideOfStreetIndicator3\":\"L\",\"giSideOfStreetIndicator4\":\"R\",\"giSideOfStreetIndicator5\":\"R\",\"giStreetCode1\":\"21592001\",\"giStreetCode2\":\"21592001\",\"giStreetCode3\":\"21592001\",\"giStreetCode4\":\"22568001\",\"giStreetCode5\":\"22568001\",\"giStreetName1\":\"BRUCKNER BOULEVARD\",\"giStreetName2\":\"BRUCKNER BOULEVARD\",\"giStreetName3\":\"BRUCKNER BOULEVARD\",\"giStreetName4\":\"EAST  134 STREET\",\"giStreetName5\":\"EAST  134 STREET\",\"highBblOfThisBuildingsCondominiumUnits\":\"2023090012\",\"internalLabelXCoordinate\":\"1004073\",\"internalLabelYCoordinate\":\"0233573\",\"latitudeInternalLabel\":40.807757506114186,\"longitudeInternalLabel\":-73.92839355274714,\"lowBblOfThisBuildingsCondominiumUnits\":\"2023090012\",\"lowHouseNumberOfDefiningAddressRange\":\"999000113AA\",\"modeSwitchIn\":\"X\",\"numberOfEntriesInListOfGeographicIdentifiers\":\"0005\",\"numberOfExistingStructuresOnLot\":\"0003\",\"numberOfStreetFrontagesOfLot\":\"02\",\"returnCode1a\":\"00\",\"rpadBuildingClassificationCode\":\"C1\",\"rpadSelfCheckCodeForBbl\":\"8\",\"sanbornBoroughCode\":\"2\",\"sanbornPageNumber\":\"009\",\"sanbornVolumeNumber\":\"09\",\"sanbornVolumeNumberSuffix\":\"S\",\"taxMapNumberSectionAndVolume\":\"20902\",\"workAreaFormatIndicatorIn\":\"C\"}}"
   ]
  },
  {
   "cell_type": "code",
   "execution_count": 9,
   "metadata": {},
   "outputs": [
    {
     "ename": "KeyError",
     "evalue": "0",
     "output_type": "error",
     "traceback": [
      "\u001b[1;31m---------------------------------------------------------------------------\u001b[0m",
      "\u001b[1;31mKeyError\u001b[0m                                  Traceback (most recent call last)",
      "\u001b[1;32m<ipython-input-9-87dda96a12f8>\u001b[0m in \u001b[0;36m<module>\u001b[1;34m()\u001b[0m\n\u001b[1;32m----> 1\u001b[1;33m \u001b[0mdf\u001b[0m \u001b[1;33m=\u001b[0m \u001b[0mpd\u001b[0m\u001b[1;33m.\u001b[0m\u001b[0mDataFrame\u001b[0m\u001b[1;33m.\u001b[0m\u001b[0mfrom_dict\u001b[0m\u001b[1;33m(\u001b[0m\u001b[0mjson_normalize\u001b[0m\u001b[1;33m(\u001b[0m\u001b[0mdata\u001b[0m\u001b[1;33m)\u001b[0m\u001b[1;33m,\u001b[0m \u001b[0mcolumns\u001b[0m \u001b[1;33m=\u001b[0m \u001b[0mdata\u001b[0m\u001b[1;33m[\u001b[0m\u001b[1;36m0\u001b[0m\u001b[1;33m]\u001b[0m\u001b[1;33m,\u001b[0m \u001b[0morient\u001b[0m\u001b[1;33m=\u001b[0m\u001b[1;34m'columns'\u001b[0m\u001b[1;33m)\u001b[0m\u001b[1;33m\u001b[0m\u001b[0m\n\u001b[0m",
      "\u001b[1;31mKeyError\u001b[0m: 0"
     ]
    }
   ],
   "source": [
    "df = pd.DataFrame.from_dict(json_normalize(data), columns = data[0], orient='columns')"
   ]
  },
  {
   "cell_type": "code",
   "execution_count": 5,
   "metadata": {},
   "outputs": [
    {
     "data": {
      "text/html": [
       "<div>\n",
       "<style scoped>\n",
       "    .dataframe tbody tr th:only-of-type {\n",
       "        vertical-align: middle;\n",
       "    }\n",
       "\n",
       "    .dataframe tbody tr th {\n",
       "        vertical-align: top;\n",
       "    }\n",
       "\n",
       "    .dataframe thead th {\n",
       "        text-align: right;\n",
       "    }\n",
       "</style>\n",
       "<table border=\"1\" class=\"dataframe\">\n",
       "  <thead>\n",
       "    <tr style=\"text-align: right;\">\n",
       "      <th></th>\n",
       "      <th>bbl.bbl</th>\n",
       "      <th>bbl.bblBoroughCode</th>\n",
       "      <th>bbl.bblBoroughCodeIn</th>\n",
       "      <th>bbl.bblTaxBlock</th>\n",
       "      <th>bbl.bblTaxBlockIn</th>\n",
       "      <th>bbl.bblTaxLot</th>\n",
       "      <th>bbl.bblTaxLotIn</th>\n",
       "      <th>bbl.buildingIdentificationNumber</th>\n",
       "      <th>bbl.condominiumBillingBbl</th>\n",
       "      <th>bbl.cooperativeIdNumber</th>\n",
       "      <th>...</th>\n",
       "      <th>bbl.numberOfStreetFrontagesOfLot</th>\n",
       "      <th>bbl.returnCode1a</th>\n",
       "      <th>bbl.rpadBuildingClassificationCode</th>\n",
       "      <th>bbl.rpadSelfCheckCodeForBbl</th>\n",
       "      <th>bbl.sanbornBoroughCode</th>\n",
       "      <th>bbl.sanbornPageNumber</th>\n",
       "      <th>bbl.sanbornVolumeNumber</th>\n",
       "      <th>bbl.sanbornVolumeNumberSuffix</th>\n",
       "      <th>bbl.taxMapNumberSectionAndVolume</th>\n",
       "      <th>bbl.workAreaFormatIndicatorIn</th>\n",
       "    </tr>\n",
       "  </thead>\n",
       "  <tbody>\n",
       "    <tr>\n",
       "      <th>0</th>\n",
       "      <td>2023090012</td>\n",
       "      <td>2</td>\n",
       "      <td>2</td>\n",
       "      <td>02309</td>\n",
       "      <td>2309</td>\n",
       "      <td>0012</td>\n",
       "      <td>12</td>\n",
       "      <td>2129034</td>\n",
       "      <td>0000000000</td>\n",
       "      <td>0000</td>\n",
       "      <td>...</td>\n",
       "      <td>02</td>\n",
       "      <td>00</td>\n",
       "      <td>C1</td>\n",
       "      <td>8</td>\n",
       "      <td>2</td>\n",
       "      <td>009</td>\n",
       "      <td>09</td>\n",
       "      <td>S</td>\n",
       "      <td>20902</td>\n",
       "      <td>C</td>\n",
       "    </tr>\n",
       "  </tbody>\n",
       "</table>\n",
       "<p>1 rows × 76 columns</p>\n",
       "</div>"
      ],
      "text/plain": [
       "      bbl.bbl bbl.bblBoroughCode bbl.bblBoroughCodeIn bbl.bblTaxBlock  \\\n",
       "0  2023090012                  2                    2           02309   \n",
       "\n",
       "  bbl.bblTaxBlockIn bbl.bblTaxLot bbl.bblTaxLotIn  \\\n",
       "0              2309          0012              12   \n",
       "\n",
       "  bbl.buildingIdentificationNumber bbl.condominiumBillingBbl  \\\n",
       "0                          2129034                0000000000   \n",
       "\n",
       "  bbl.cooperativeIdNumber              ...               \\\n",
       "0                    0000              ...                \n",
       "\n",
       "  bbl.numberOfStreetFrontagesOfLot bbl.returnCode1a  \\\n",
       "0                               02               00   \n",
       "\n",
       "  bbl.rpadBuildingClassificationCode bbl.rpadSelfCheckCodeForBbl  \\\n",
       "0                                 C1                           8   \n",
       "\n",
       "  bbl.sanbornBoroughCode bbl.sanbornPageNumber bbl.sanbornVolumeNumber  \\\n",
       "0                      2                   009                      09   \n",
       "\n",
       "  bbl.sanbornVolumeNumberSuffix bbl.taxMapNumberSectionAndVolume  \\\n",
       "0                             S                            20902   \n",
       "\n",
       "  bbl.workAreaFormatIndicatorIn  \n",
       "0                             C  \n",
       "\n",
       "[1 rows x 76 columns]"
      ]
     },
     "execution_count": 5,
     "metadata": {},
     "output_type": "execute_result"
    }
   ],
   "source": [
    "df"
   ]
  },
  {
   "cell_type": "code",
   "execution_count": null,
   "metadata": {},
   "outputs": [],
   "source": []
  }
 ],
 "metadata": {
  "kernelspec": {
   "display_name": "Python 3",
   "language": "python",
   "name": "python3"
  },
  "language_info": {
   "codemirror_mode": {
    "name": "ipython",
    "version": 3
   },
   "file_extension": ".py",
   "mimetype": "text/x-python",
   "name": "python",
   "nbconvert_exporter": "python",
   "pygments_lexer": "ipython3",
   "version": "3.7.0"
  }
 },
 "nbformat": 4,
 "nbformat_minor": 2
}
