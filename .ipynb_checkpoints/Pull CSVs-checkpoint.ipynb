{
 "cells": [
  {
   "cell_type": "markdown",
   "metadata": {},
   "source": [
    "# Economic Impact Report - External Data Sources\n",
    "* I. Census Data (hitting API --> DataFrame --> CSVs)  \n",
    "  * A. ACS  \n",
    "  * B. CBP  \n",
    "* II. EMSI (hitting API --> DataFrame --> CSVs)  \n",
    "* III. BEA (hitting API --> DataFrame --> CSVs)  \n",
    "* IV. BLS (raw txt files --> data frames --> CSVs)  "
   ]
  },
  {
   "cell_type": "markdown",
   "metadata": {},
   "source": [
    "#### External API URLs"
   ]
  },
  {
   "cell_type": "code",
   "execution_count": 1,
   "metadata": {},
   "outputs": [],
   "source": [
    "external_data_sources = {\n",
    "    # c and s should be city and state ACS_FIPS codes\n",
    "    'CBP': 'https://api.census.gov/data/2016/cbp?get=NAICS2012,ESTAB,EMPSZES&for=county:$c&in=state:$s',\n",
    "}"
   ]
  },
  {
   "cell_type": "markdown",
   "metadata": {},
   "source": [
    "#### Import Relevant Packages"
   ]
  },
  {
   "cell_type": "code",
   "execution_count": 2,
   "metadata": {},
   "outputs": [],
   "source": [
    "import requests\n",
    "import pandas as pd\n",
    "import os\n",
    "from os import listdir, path, mkdir\n",
    "from os.path import isfile, join\n",
    "from string import Template\n",
    "import numpy as np"
   ]
  },
  {
   "cell_type": "markdown",
   "metadata": {},
   "source": [
    "#### Importing WeWork Cities --> FIPS codes lookup table"
   ]
  },
  {
   "cell_type": "code",
   "execution_count": 4,
   "metadata": {},
   "outputs": [],
   "source": [
    "\n",
    "FIPS_codes_table = pd.read_csv('C:/Users/kclyne/Documents/GitHub/geoclient/helper_tables/WeWork_City_Geographies_FIPS_codes.csv', skiprows=4, usecols=[3, 4, 5, 6, 7, 8, 9, 10, 11, 12, 13], dtype=str, na_values=['NaN'])\n",
    "\n",
    "# These are cities not in the US\n",
    "# FIPS_codes_table_na_values = FIPS_codes_table[FIPS_codes_table['ACS_COUNTY_FIPS'].isna() | FIPS_codes_table['State FIPS'].isna()]\n",
    "# FIPS_codes_table = FIPS_codes_table[FIPS_codes_table['ACS_COUNTY_FIPS'].notna() & FIPS_codes_table['State FIPS'].notna()]\n"
   ]
  },
  {
   "cell_type": "code",
   "execution_count": 6,
   "metadata": {},
   "outputs": [
    {
     "ename": "NameError",
     "evalue": "name 'make_dir_if_not_exists' is not defined",
     "output_type": "error",
     "traceback": [
      "\u001b[1;31m---------------------------------------------------------------------------\u001b[0m",
      "\u001b[1;31mNameError\u001b[0m                                 Traceback (most recent call last)",
      "\u001b[1;32m<ipython-input-6-b6809a5e8e47>\u001b[0m in \u001b[0;36m<module>\u001b[1;34m()\u001b[0m\n\u001b[1;32m----> 1\u001b[1;33m \u001b[0mmake_dir_if_not_exists\u001b[0m\u001b[1;33m(\u001b[0m\u001b[1;34m'../output/census'\u001b[0m\u001b[1;33m)\u001b[0m\u001b[1;33m\u001b[0m\u001b[0m\n\u001b[0m",
      "\u001b[1;31mNameError\u001b[0m: name 'make_dir_if_not_exists' is not defined"
     ]
    }
   ],
   "source": [
    "make_dir_if_not_exists('../output/census')"
   ]
  },
  {
   "cell_type": "code",
   "execution_count": null,
   "metadata": {},
   "outputs": [
    {
     "name": "stdout",
     "output_type": "stream",
     "text": [
      "Status code 200\n",
      "Content-type application/json;charset=utf-8\n",
      "Encoding utf-8\n",
      "Status code 200\n",
      "Content-type application/json;charset=utf-8\n",
      "Encoding utf-8\n",
      "Status code 200\n",
      "Content-type application/json;charset=utf-8\n",
      "Encoding utf-8\n",
      "Status code 200\n",
      "Content-type application/json;charset=utf-8\n",
      "Encoding utf-8\n",
      "Status code 200\n",
      "Content-type application/json;charset=utf-8\n",
      "Encoding utf-8\n",
      "Status code 200\n",
      "Content-type application/json;charset=utf-8\n",
      "Encoding utf-8\n",
      "Status code 200\n",
      "Content-type application/json;charset=utf-8\n",
      "Encoding utf-8\n"
     ]
    }
   ],
   "source": [
    "for category in external_data_sources['census']:\n",
    "    category_dir = '../output/census/' + category\n",
    "    make_dir_if_not_exists(category_dir)\n",
    "    for i, api in enumerate(external_data_sources['census'][category]):\n",
    "        df = fetch_and_read_census_data_into_df(api)\n",
    "        filename = 'output_' + category + '_' + str(i) + '_' +  api[-23:] + '.csv'\n",
    "        cached_dfs[category][filename] = df\n",
    "        filepath = path.join(category_dir, filename)\n",
    "        df.to_csv(filepath, index=False)"
   ]
  },
  {
   "cell_type": "markdown",
   "metadata": {},
   "source": [
    "### B. CBP\n",
    "* business data (establishments, employment, payroll, etc.) by industry"
   ]
  },
  {
   "cell_type": "markdown",
   "metadata": {},
   "source": [
    "#### For each WeWork city, make request for CBP data (and cache the results)"
   ]
  },
  {
   "cell_type": "code",
   "execution_count": null,
   "metadata": {},
   "outputs": [],
   "source": [
    "def fetch_and_read_cbp_data_into_df(url):\n",
    "    try:\n",
    "        r = requests.get(url)\n",
    "        print('Status code', r.status_code)\n",
    "        print('Content-type', r.headers['content-type'])\n",
    "        print('Encoding', r.encoding)\n",
    "        json =  r.json()\n",
    "           \n",
    "        # Columns happen to be ['NAICS2012', 'ESTAB', 'EMPSZES', 'state', 'county'])\n",
    "        return pd.DataFrame(json, columns = json[0])\n",
    "\n",
    "    except Exception as e:\n",
    "        print('Status code', r.status_code)\n",
    "        print('Error reads: ', e)\n",
    "        return e"
   ]
  },
  {
   "cell_type": "code",
   "execution_count": null,
   "metadata": {},
   "outputs": [],
   "source": [
    "cached_CBP_data = {}"
   ]
  },
  {
   "cell_type": "code",
   "execution_count": null,
   "metadata": {},
   "outputs": [],
   "source": [
    "cbp_dfs = []\n",
    "for index, row in FIPS_codes_table.iterrows():\n",
    "    c = row['ACS_COUNTY_FIPS']\n",
    "    s = row['State FIPS']\n",
    "    \n",
    "    # leading zeroes were stripped out of the state code in the .read_csv process\n",
    "    if len(s) == 1:\n",
    "        s = '0' + s\n",
    "    \n",
    "    api_str = Template(external_data_sources['CBP']).safe_substitute({ 'c': c, 's': s})\n",
    "    if (api_str not in cached_CBP_data):        \n",
    "        df = fetch_and_read_cbp_data_into_df(api_str)\n",
    "        df['County'] = row['County']\n",
    "        df['State'] = row['State']\n",
    "        df['City All'] = row['City All']\n",
    "        cached_CBP_data[api_str] = df\n",
    "        \n",
    "    cbp_dfs.append(df)\n",
    "\n",
    "final_cbp_df = pd.concat(cbp_dfs)\n",
    "\n"
   ]
  },
  {
   "cell_type": "code",
   "execution_count": null,
   "metadata": {},
   "outputs": [],
   "source": [
    "make_dir_if_not_exists('/output/cbp')"
   ]
  },
  {
   "cell_type": "code",
   "execution_count": null,
   "metadata": {},
   "outputs": [],
   "source": [
    "final_cbp_df.to_csv('/output/cbp/results.csv')"
   ]
  }
 ],
 "metadata": {
  "kernelspec": {
   "display_name": "Python 3",
   "language": "python",
   "name": "python3"
  },
  "language_info": {
   "codemirror_mode": {
    "name": "ipython",
    "version": 3
   },
   "file_extension": ".py",
   "mimetype": "text/x-python",
   "name": "python",
   "nbconvert_exporter": "python",
   "pygments_lexer": "ipython3",
   "version": "3.7.0"
  }
 },
 "nbformat": 4,
 "nbformat_minor": 2
}
